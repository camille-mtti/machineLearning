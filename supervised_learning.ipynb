{
 "cells": [
  {
   "cell_type": "code",
   "execution_count": 20,
   "metadata": {},
   "outputs": [
    {
     "name": "stdout",
     "output_type": "stream",
     "text": [
      "(116, 9) (116,)\n",
      "(69, 9) (69,)\n",
      "(47, 9) (47,)\n"
     ]
    }
   ],
   "source": [
    "import pandas as pd\n",
    "from sklearn import preprocessing\n",
    "\n",
    "from sklearn.model_selection import train_test_split\n",
    "from sklearn.metrics import mean_squared_error\n",
    "from math import sqrt\n",
    "from sklearn import model_selection\n",
    "from sklearn.linear_model import LogisticRegression\n",
    "\n",
    "from sklearn.model_selection import cross_val_score\n",
    "from sklearn.metrics import classification_report, confusion_matrix\n",
    "\n",
    "from sklearn.metrics import roc_auc_score\n",
    "from sklearn.metrics import roc_curve\n",
    "\n",
    "from warnings import simplefilter\n",
    "# ignore all future warnings\n",
    "simplefilter(action='ignore', category=FutureWarning)\n",
    "\n",
    "# creating name column to recreate dataframe\n",
    "names = [\"Age\", \"BMI\", \"Glucose\", \"Insulin\", \"HOMA\", \"Leptin\", \"Adiponectin\", \"Resistin\", \"MCP.1\"]\n",
    "\n",
    "raw_df = pd.read_csv('dataR2.csv')\n",
    "\n",
    "# dropping the target column\n",
    "array = raw_df.drop(\"Classification\",axis=1).values\n",
    "\n",
    "# normalizing data to eliminate the effect of unit\n",
    "array2 = preprocessing.scale(array)\n",
    "\n",
    "# recreating the dataframe with normalize data and without the target column\n",
    "x1_df = pd.DataFrame(data = array2, columns=names)\n",
    "\n",
    "\n",
    "x1 = x1_df.values # array of attributes value\n",
    "y1 = raw_df[\"Classification\"].values # array of target value\n",
    "\n",
    "# verifying the dimension of each array\n",
    "print(x1.shape, y1.shape)\n",
    "\n",
    "# splitting data in training and testing and verifyind dimensions\n",
    "X_train, X_test, y_train, y_test = train_test_split(x1, y1, test_size=0.4, random_state=0)\n",
    "print(X_train.shape, y_train.shape)\n",
    "print(X_test.shape, y_test.shape)\n",
    "\n",
    "\n"
   ]
  },
  {
   "cell_type": "code",
   "execution_count": 30,
   "metadata": {},
   "outputs": [
    {
     "name": "stdout",
     "output_type": "stream",
     "text": [
      "0.6382978723404256\n",
      "[0.66666667 0.66666667 0.60869565 0.73913043 0.5       ]\n",
      "------------- metrics ------------- \n",
      "              precision    recall  f1-score   support\n",
      "\n",
      "           1       0.58      0.55      0.56        20\n",
      "           2       0.68      0.70      0.69        27\n",
      "\n",
      "    accuracy                           0.64        47\n",
      "   macro avg       0.63      0.63      0.63        47\n",
      "weighted avg       0.64      0.64      0.64        47\n",
      "\n",
      "confusion matrix\n",
      "[[11  9]\n",
      " [ 8 19]]\n"
     ]
    }
   ],
   "source": [
    "# doing logistic regression without crossfold validation\n",
    "\n",
    "logisticRegr = LogisticRegression()\n",
    "result = logisticRegr.fit(X_train,y_train)\n",
    "\n",
    "# evaluating the model\n",
    "score = logisticRegr.score(X_test, y_test)\n",
    "print(score)\n",
    "\n",
    "# crossfold validation and logistic regression\n",
    "scores = cross_val_score(logisticRegr, x1, y1, cv=5)\n",
    "print(scores)\n",
    "\n",
    "# predicting\n",
    "# https://towardsdatascience.com/building-a-logistic-regression-in-python-step-by-step-becd4d56c9c8\n",
    "y_pred = logisticRegr.predict(X_test)\n",
    "\n",
    "print(\"------------- metrics ------------- \")\n",
    "report = classification_report(y_test, y_pred)\n",
    "print(report)\n",
    "\n",
    "print(\"confusion matrix\")\n",
    "conf = confusion_matrix(y_test, y_pred)\n",
    "print(conf)\n"
   ]
  },
  {
   "cell_type": "code",
   "execution_count": 26,
   "metadata": {},
   "outputs": [
    {
     "name": "stdout",
     "output_type": "stream",
     "text": [
      "0.6170212765957447\n",
      "[0.66666667 0.66666667 0.73913043 0.73913043 0.5       ]\n",
      "------------- metrics ------------- \n",
      "              precision    recall  f1-score   support\n",
      "\n",
      "           1       0.55      0.55      0.55        20\n",
      "           2       0.67      0.67      0.67        27\n",
      "\n",
      "    accuracy                           0.62        47\n",
      "   macro avg       0.61      0.61      0.61        47\n",
      "weighted avg       0.62      0.62      0.62        47\n",
      "\n",
      "confusion matrix\n",
      "[[11  9]\n",
      " [ 9 18]]\n"
     ]
    }
   ],
   "source": [
    "from sklearn import svm\n",
    "\n",
    "model_svm = svm.SVC(kernel='linear', C=1).fit(X_train, y_train)\n",
    "print(model_svm.score(X_test, y_test))\n",
    "\n",
    "# crossfold validation and SVM\n",
    "scores = cross_val_score(model_svm, x1, y1, cv=5)\n",
    "print(scores)\n",
    "\n",
    "y_pred = model_svm.predict(X_test)\n",
    "\n",
    "print(\"------------- metrics ------------- \")\n",
    "report = classification_report(y_test, y_pred)\n",
    "print(report)\n",
    "\n",
    "print(\"confusion matrix\")\n",
    "conf = confusion_matrix(y_test, y_pred)\n",
    "print(conf)\n"
   ]
  },
  {
   "cell_type": "code",
   "execution_count": 27,
   "metadata": {},
   "outputs": [
    {
     "name": "stdout",
     "output_type": "stream",
     "text": [
      "0.7021276595744681\n",
      "[0.79166667 0.66666667 0.65217391 0.52173913 0.36363636]\n",
      "------------- metrics ------------- \n",
      "              precision    recall  f1-score   support\n",
      "\n",
      "           1       0.64      0.70      0.67        20\n",
      "           2       0.76      0.70      0.73        27\n",
      "\n",
      "    accuracy                           0.70        47\n",
      "   macro avg       0.70      0.70      0.70        47\n",
      "weighted avg       0.71      0.70      0.70        47\n",
      "\n",
      "confusion matrix\n",
      "[[14  6]\n",
      " [ 8 19]]\n"
     ]
    }
   ],
   "source": [
    "from sklearn.neighbors import KNeighborsClassifier\n",
    "\n",
    "model_knn = KNeighborsClassifier(n_neighbors=3)\n",
    "model_knn.fit(X_train, y_train)\n",
    "print(model_knn.score(X_test, y_test))\n",
    "\n",
    "scores = cross_val_score(model_knn, x1, y1, cv=5)\n",
    "print(scores)\n",
    "\n",
    "y_pred = model_knn.predict(X_test)\n",
    "\n",
    "print(\"------------- metrics ------------- \")\n",
    "report = classification_report(y_test, y_pred)\n",
    "print(report)\n",
    "\n",
    "print(\"confusion matrix\")\n",
    "conf = confusion_matrix(y_test, y_pred)\n",
    "print(conf)"
   ]
  },
  {
   "cell_type": "code",
   "execution_count": 28,
   "metadata": {},
   "outputs": [
    {
     "name": "stdout",
     "output_type": "stream",
     "text": [
      "0.7446808510638298\n",
      "[0.5        0.5        0.82608696 0.60869565 0.59090909]\n",
      "------------- metrics ------------- \n",
      "              precision    recall  f1-score   support\n",
      "\n",
      "           1       0.70      0.70      0.70        20\n",
      "           2       0.78      0.78      0.78        27\n",
      "\n",
      "    accuracy                           0.74        47\n",
      "   macro avg       0.74      0.74      0.74        47\n",
      "weighted avg       0.74      0.74      0.74        47\n",
      "\n",
      "confusion matrix\n",
      "[[14  6]\n",
      " [ 6 21]]\n"
     ]
    }
   ],
   "source": [
    "from sklearn.tree import DecisionTreeClassifier\n",
    "\n",
    "model_dt=DecisionTreeClassifier()\n",
    "model_dt.fit(X_train, y_train)\n",
    "print(model_dt.score(X_test, y_test))\n",
    "\n",
    "scores = cross_val_score(model_dt, x1, y1, cv=5)\n",
    "print(scores)\n",
    "\n",
    "y_pred = model_dt.predict(X_test)\n",
    "\n",
    "print(\"------------- metrics ------------- \")\n",
    "report = classification_report(y_test, y_pred)\n",
    "print(report)\n",
    "\n",
    "print(\"confusion matrix\")\n",
    "conf = confusion_matrix(y_test, y_pred)\n",
    "print(conf)"
   ]
  },
  {
   "cell_type": "code",
   "execution_count": 29,
   "metadata": {},
   "outputs": [
    {
     "name": "stdout",
     "output_type": "stream",
     "text": [
      "0.574468085106383\n",
      "[0.75       0.33333333 0.69565217 0.56521739 0.63636364]\n",
      "------------- metrics ------------- \n",
      "              precision    recall  f1-score   support\n",
      "\n",
      "           1       0.50      0.50      0.50        20\n",
      "           2       0.63      0.63      0.63        27\n",
      "\n",
      "    accuracy                           0.57        47\n",
      "   macro avg       0.56      0.56      0.56        47\n",
      "weighted avg       0.57      0.57      0.57        47\n",
      "\n",
      "confusion matrix\n",
      "[[10 10]\n",
      " [10 17]]\n"
     ]
    }
   ],
   "source": [
    "from sklearn.discriminant_analysis import QuadraticDiscriminantAnalysis\n",
    "\n",
    "model_qda = QuadraticDiscriminantAnalysis()\n",
    "model_qda.fit(X_train, y_train)\n",
    "print(model_qda.score(X_test, y_test))\n",
    "\n",
    "scores = cross_val_score(model_qda, x1, y1, cv=5)\n",
    "print(scores)\n",
    "\n",
    "\n",
    "y_pred = model_qda.predict(X_test)\n",
    "\n",
    "print(\"------------- metrics ------------- \")\n",
    "report = classification_report(y_test, y_pred)\n",
    "print(report)\n",
    "\n",
    "print(\"confusion matrix\")\n",
    "conf = confusion_matrix(y_test, y_pred)\n",
    "print(conf)"
   ]
  },
  {
   "cell_type": "code",
   "execution_count": null,
   "metadata": {},
   "outputs": [],
   "source": []
  }
 ],
 "metadata": {
  "kernelspec": {
   "display_name": "Python 3",
   "language": "python",
   "name": "python3"
  },
  "language_info": {
   "codemirror_mode": {
    "name": "ipython",
    "version": 3
   },
   "file_extension": ".py",
   "mimetype": "text/x-python",
   "name": "python",
   "nbconvert_exporter": "python",
   "pygments_lexer": "ipython3",
   "version": "3.7.3"
  }
 },
 "nbformat": 4,
 "nbformat_minor": 2
}
