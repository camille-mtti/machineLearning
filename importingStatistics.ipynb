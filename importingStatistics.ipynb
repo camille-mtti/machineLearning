{
 "cells": [
  {
   "cell_type": "markdown",
   "metadata": {},
   "source": [
    "# Importing data and Descriptive statistics\n",
    "## Importing data"
   ]
  },
  {
   "cell_type": "code",
   "execution_count": 1,
   "metadata": {
    "pycharm": {
     "is_executing": false
    }
   },
   "outputs": [],
   "source": [
    "import matplotlib \n",
    "import matplotlib.pyplot as plt\n",
    "import numpy as np\n",
    "import pandas as pd\n",
    "names = [\"Age\", \"BMI\", \"Glucose\", \"Insul in\", \"HOMA\", \"Leptin\", \"Adiponectin\", \"Resistin\", \"MCP.1\", \"Classification\"]\n",
    "df = pd.read_csv('dataR2.csv')\n",
    "raw_data = df.values\n",
    "\n",
    "age = raw_data[:,0]\n",
    "bmi = raw_data[:,1]\n",
    "glucose = raw_data[:,2]\n",
    "insulin = raw_data[:,3]\n",
    "homa = raw_data[:,4]\n",
    "leptin = raw_data[:,5]\n",
    "adiponectin = raw_data[:,6]\n",
    "resistin = raw_data[:,7]\n",
    "mcp1 = raw_data[:,8]\n",
    "classification = raw_data[:,9]\n",
    "data = [age,bmi,glucose,insulin,homa,leptin,adiponectin,resistin,mcp1,classification]\n"
   ]
  },
  {
   "cell_type": "markdown",
   "metadata": {},
   "source": [
    "## Descriptive statistices\n",
    "### Age"
   ]
  },
  {
   "cell_type": "code",
   "execution_count": 3,
   "metadata": {},
   "outputs": [
    {
     "name": "stdout",
     "output_type": "stream",
     "text": [
      "mean = 57.30172413793103\n",
      "standard deviation = 16.043163667918627\n",
      "median = 56.0\n",
      "Q1 = 45.0\n",
      "Q3 = 71.0\n"
     ]
    },
    {
     "data": {
      "text/html": [
       "\n",
       "        <script>\n",
       "            function code_toggle_14516477658179440462() {\n",
       "                $('div.cell.code_cell.rendered.selected').find('div.input').toggle();\n",
       "            }\n",
       "\n",
       "            \n",
       "        </script>\n",
       "\n",
       "        <a href=\"javascript:code_toggle_14516477658179440462()\">Toggle show/hide</a>\n",
       "    "
      ],
      "text/plain": [
       "<IPython.core.display.HTML object>"
      ]
     },
     "execution_count": 3,
     "metadata": {},
     "output_type": "execute_result"
    },
    {
     "data": {
      "image/png": "[encoded data removed]",
      "text/plain": [
       "<Figure size 432x288 with 1 Axes>"
      ]
     },
     "metadata": {
      "needs_background": "light"
     },
     "output_type": "display_data"
    }
   ],
   "source": [
    "print(\"mean = \" + str(np.mean(age)))\n",
    "print(\"standard deviation = \" + str(np.std(age)))\n",
    "print(\"median = \" + str(np.median(age)))\n",
    "print(\"Q1 = \" + str(np.quantile(age,0.25)))\n",
    "print(\"Q3 = \" + str(np.quantile(age,0.75)))\n",
    "plt.boxplot(age)"
   ]
  },
  {
   "cell_type": "markdown",
   "metadata": {},
   "source": []
  },
  {
   "cell_type": "code",
   "execution_count": 4,
   "metadata": {},
   "outputs": [
    {
     "name": "stdout",
     "output_type": "stream",
     "text": [
      "mean = 27.582110827413796\n",
      "standard deviation = 4.998450415489925\n",
      "median = 27.662416274999998\n",
      "Q1 = 22.973204995\n",
      "Q3 = 31.24144235\n"
     ]
    },
    {
     "data": {
      "text/plain": [
       "{'whiskers': [<matplotlib.lines.Line2D at 0x21c0759db38>,\n",
       "  <matplotlib.lines.Line2D at 0x21c0759def0>],\n",
       " 'caps': [<matplotlib.lines.Line2D at 0x21c0759dfd0>,\n",
       "  <matplotlib.lines.Line2D at 0x21c075a75c0>],\n",
       " 'boxes': [<matplotlib.lines.Line2D at 0x21c0759d748>],\n",
       " 'medians': [<matplotlib.lines.Line2D at 0x21c075a7908>],\n",
       " 'fliers': [<matplotlib.lines.Line2D at 0x21c075a7c50>],\n",
       " 'means': []}"
      ]
     },
     "execution_count": 4,
     "metadata": {},
     "output_type": "execute_result"
    },
    {
     "data": {
      "image/png": "[encoded data removed]",
      "text/plain": [
       "<Figure size 432x288 with 1 Axes>"
      ]
     },
     "metadata": {
      "needs_background": "light"
     },
     "output_type": "display_data"
    }
   ],
   "source": [
    "print(\"mean = \" + str(np.mean(bmi)))\n",
    "print(\"standard deviation = \" + str(np.std(bmi)))\n",
    "print(\"median = \" + str(np.median(bmi)))\n",
    "print(\"Q1 = \" + str(np.quantile(bmi,0.25)))\n",
    "print(\"Q3 = \" + str(np.quantile(bmi,0.75)))\n",
    "plt.boxplot(bmi)"
   ]
  },
  {
   "cell_type": "code",
   "execution_count": 5,
   "metadata": {},
   "outputs": [
    {
     "name": "stdout",
     "output_type": "stream",
     "text": [
      "mean = 97.79310344827586\n",
      "standard deviation = 22.427860307100534\n",
      "median = 92.0\n",
      "Q1 = 85.75\n",
      "Q3 = 102.0\n"
     ]
    },
    {
     "data": {
      "text/plain": [
       "{'whiskers': [<matplotlib.lines.Line2D at 0x21c07612e10>,\n",
       "  <matplotlib.lines.Line2D at 0x21c07612ef0>],\n",
       " 'caps': [<matplotlib.lines.Line2D at 0x21c0761d4e0>,\n",
       "  <matplotlib.lines.Line2D at 0x21c0761d828>],\n",
       " 'boxes': [<matplotlib.lines.Line2D at 0x21c07612a20>],\n",
       " 'medians': [<matplotlib.lines.Line2D at 0x21c0761db70>],\n",
       " 'fliers': [<matplotlib.lines.Line2D at 0x21c0761de48>],\n",
       " 'means': []}"
      ]
     },
     "execution_count": 5,
     "metadata": {},
     "output_type": "execute_result"
    },
    {
     "data": {
      "image/png": "[encoded data removed]",
      "text/plain": [
       "<Figure size 432x288 with 1 Axes>"
      ]
     },
     "metadata": {
      "needs_background": "light"
     },
     "output_type": "display_data"
    }
   ],
   "source": [
    "print(\"mean = \" + str(np.mean(glucose)))\n",
    "print(\"standard deviation = \" + str(np.std(glucose)))\n",
    "print(\"median = \" + str(np.median(glucose)))\n",
    "print(\"Q1 = \" + str(np.quantile(glucose,0.25)))\n",
    "print(\"Q3 = \" + str(np.quantile(glucose,0.75)))\n",
    "plt.boxplot(glucose)"
   ]
  },
  {
   "cell_type": "code",
   "execution_count": 6,
   "metadata": {},
   "outputs": [
    {
     "name": "stdout",
     "output_type": "stream",
     "text": [
      "mean = 10.012086206896551\n",
      "standard deviation = 10.02427815663222\n",
      "median = 5.9245\n",
      "Q1 = 4.359249999999999\n",
      "Q3 = 11.189250000000001\n"
     ]
    },
    {
     "data": {
      "text/plain": [
       "{'whiskers': [<matplotlib.lines.Line2D at 0x21c07681a20>,\n",
       "  <matplotlib.lines.Line2D at 0x21c07681d68>],\n",
       " 'caps': [<matplotlib.lines.Line2D at 0x21c07681e48>,\n",
       "  <matplotlib.lines.Line2D at 0x21c0768b438>],\n",
       " 'boxes': [<matplotlib.lines.Line2D at 0x21c07681630>],\n",
       " 'medians': [<matplotlib.lines.Line2D at 0x21c0761de10>],\n",
       " 'fliers': [<matplotlib.lines.Line2D at 0x21c0768ba58>],\n",
       " 'means': []}"
      ]
     },
     "execution_count": 6,
     "metadata": {},
     "output_type": "execute_result"
    },
    {
     "data": {
      "image/png": "[encoded data removed]",
      "text/plain": [
       "<Figure size 432x288 with 1 Axes>"
      ]
     },
     "metadata": {
      "needs_background": "light"
     },
     "output_type": "display_data"
    }
   ],
   "source": [
    "print(\"mean = \" + str(np.mean(insulin)))\n",
    "print(\"standard deviation = \" + str(np.std(insulin)))\n",
    "print(\"median = \" + str(np.median(insulin)))\n",
    "print(\"Q1 = \" + str(np.quantile(insulin,0.25)))\n",
    "print(\"Q3 = \" + str(np.quantile(insulin,0.75)))\n",
    "plt.boxplot(insulin)"
   ]
  },
  {
   "cell_type": "code",
   "execution_count": 7,
   "metadata": {},
   "outputs": [
    {
     "name": "stdout",
     "output_type": "stream",
     "text": [
      "mean = 2.694987564396551\n",
      "standard deviation = 3.626310750341434\n",
      "median = 1.3809386665\n",
      "Q1 = 0.91796629975\n",
      "Q3 = 2.8577874997499997\n"
     ]
    },
    {
     "data": {
      "text/plain": [
       "{'whiskers': [<matplotlib.lines.Line2D at 0x21c052a49b0>,\n",
       "  <matplotlib.lines.Line2D at 0x21c0425a5f8>],\n",
       " 'caps': [<matplotlib.lines.Line2D at 0x21c074bed68>,\n",
       "  <matplotlib.lines.Line2D at 0x21c074be898>],\n",
       " 'boxes': [<matplotlib.lines.Line2D at 0x21c074ddf28>],\n",
       " 'medians': [<matplotlib.lines.Line2D at 0x21c074be4a8>],\n",
       " 'fliers': [<matplotlib.lines.Line2D at 0x21c074bea90>],\n",
       " 'means': []}"
      ]
     },
     "execution_count": 7,
     "metadata": {},
     "output_type": "execute_result"
    },
    {
     "data": {
      "image/png": "[encoded data removed]",
      "text/plain": [
       "<Figure size 432x288 with 1 Axes>"
      ]
     },
     "metadata": {
      "needs_background": "light"
     },
     "output_type": "display_data"
    }
   ],
   "source": [
    "print(\"mean = \" + str(np.mean(homa)))\n",
    "print(\"standard deviation = \" + str(np.std(homa)))\n",
    "print(\"median = \" + str(np.median(homa)))\n",
    "print(\"Q1 = \" + str(np.quantile(homa,0.25)))\n",
    "print(\"Q3 = \" + str(np.quantile(homa,0.75)))\n",
    "plt.boxplot(homa)"
   ]
  },
  {
   "cell_type": "code",
   "execution_count": 8,
   "metadata": {},
   "outputs": [
    {
     "name": "stdout",
     "output_type": "stream",
     "text": [
      "mean = 26.61508017241379\n",
      "standard deviation = 19.100428483698998\n",
      "median = 20.271\n",
      "Q1 = 12.313674999999998\n",
      "Q3 = 37.378299999999996\n"
     ]
    },
    {
     "data": {
      "text/plain": [
       "{'whiskers': [<matplotlib.lines.Line2D at 0x21c076daef0>,\n",
       "  <matplotlib.lines.Line2D at 0x21c076dafd0>],\n",
       " 'caps': [<matplotlib.lines.Line2D at 0x21c076ea5c0>,\n",
       "  <matplotlib.lines.Line2D at 0x21c076ea908>],\n",
       " 'boxes': [<matplotlib.lines.Line2D at 0x21c076dab00>],\n",
       " 'medians': [<matplotlib.lines.Line2D at 0x21c076eac50>],\n",
       " 'fliers': [<matplotlib.lines.Line2D at 0x21c076eaf98>],\n",
       " 'means': []}"
      ]
     },
     "execution_count": 8,
     "metadata": {},
     "output_type": "execute_result"
    },
    {
     "data": {
      "image/png": "[encoded data removed]",
      "text/plain": [
       "<Figure size 432x288 with 1 Axes>"
      ]
     },
     "metadata": {
      "needs_background": "light"
     },
     "output_type": "display_data"
    }
   ],
   "source": [
    "print(\"mean = \" + str(np.mean(leptin)))\n",
    "print(\"standard deviation = \" + str(np.std(leptin)))\n",
    "print(\"median = \" + str(np.median(leptin)))\n",
    "print(\"Q1 = \" + str(np.quantile(leptin,0.25)))\n",
    "print(\"Q3 = \" + str(np.quantile(leptin,0.75)))\n",
    "plt.boxplot(leptin)"
   ]
  },
  {
   "cell_type": "code",
   "execution_count": 9,
   "metadata": {},
   "outputs": [
    {
     "name": "stdout",
     "output_type": "stream",
     "text": [
      "mean = 10.180873965517241\n",
      "standard deviation = 6.813780440401913\n",
      "median = 8.3526925\n",
      "Q1 = 5.474282499999999\n",
      "Q3 = 11.81597\n"
     ]
    },
    {
     "data": {
      "text/plain": [
       "{'whiskers': [<matplotlib.lines.Line2D at 0x21c0773f940>,\n",
       "  <matplotlib.lines.Line2D at 0x21c0773fcc0>],\n",
       " 'caps': [<matplotlib.lines.Line2D at 0x21c0773fda0>,\n",
       "  <matplotlib.lines.Line2D at 0x21c07748390>],\n",
       " 'boxes': [<matplotlib.lines.Line2D at 0x21c0773f550>],\n",
       " 'medians': [<matplotlib.lines.Line2D at 0x21c077486d8>],\n",
       " 'fliers': [<matplotlib.lines.Line2D at 0x21c07748a20>],\n",
       " 'means': []}"
      ]
     },
     "execution_count": 9,
     "metadata": {},
     "output_type": "execute_result"
    },
    {
     "data": {
      "image/png": "[encoded data removed]",
      "text/plain": [
       "<Figure size 432x288 with 1 Axes>"
      ]
     },
     "metadata": {
      "needs_background": "light"
     },
     "output_type": "display_data"
    }
   ],
   "source": [
    "print(\"mean = \" + str(np.mean(adiponectin)))\n",
    "print(\"standard deviation = \" + str(np.std(adiponectin)))\n",
    "print(\"median = \" + str(np.median(adiponectin)))\n",
    "print(\"Q1 = \" + str(np.quantile(adiponectin,0.25)))\n",
    "print(\"Q3 = \" + str(np.quantile(adiponectin,0.75)))\n",
    "plt.boxplot(adiponectin)"
   ]
  },
  {
   "cell_type": "code",
   "execution_count": 10,
   "metadata": {},
   "outputs": [
    {
     "name": "stdout",
     "output_type": "stream",
     "text": [
      "mean = 14.725965862068962\n",
      "standard deviation = 12.33712211997547\n",
      "median = 10.82774\n",
      "Q1 = 6.881762500000001\n",
      "Q3 = 17.755207499999997\n"
     ]
    },
    {
     "data": {
      "text/plain": [
       "{'whiskers': [<matplotlib.lines.Line2D at 0x21c0779df28>,\n",
       "  <matplotlib.lines.Line2D at 0x21c077aa550>],\n",
       " 'caps': [<matplotlib.lines.Line2D at 0x21c077aa898>,\n",
       "  <matplotlib.lines.Line2D at 0x21c077aabe0>],\n",
       " 'boxes': [<matplotlib.lines.Line2D at 0x21c0779ddd8>],\n",
       " 'medians': [<matplotlib.lines.Line2D at 0x21c077aaf28>],\n",
       " 'fliers': [<matplotlib.lines.Line2D at 0x21c077aaef0>],\n",
       " 'means': []}"
      ]
     },
     "execution_count": 10,
     "metadata": {},
     "output_type": "execute_result"
    },
    {
     "data": {
      "image/png": "[encoded data removed]",
      "text/plain": [
       "<Figure size 432x288 with 1 Axes>"
      ]
     },
     "metadata": {
      "needs_background": "light"
     },
     "output_type": "display_data"
    }
   ],
   "source": [
    "print(\"mean = \" + str(np.mean(resistin)))\n",
    "print(\"standard deviation = \" + str(np.std(resistin)))\n",
    "print(\"median = \" + str(np.median(resistin)))\n",
    "print(\"Q1 = \" + str(np.quantile(resistin,0.25)))\n",
    "print(\"Q3 = \" + str(np.quantile(resistin,0.75)))\n",
    "plt.boxplot(resistin)"
   ]
  },
  {
   "cell_type": "code",
   "execution_count": 11,
   "metadata": {},
   "outputs": [
    {
     "name": "stdout",
     "output_type": "stream",
     "text": [
      "mean = 534.647\n",
      "standard deviation = 344.41843310309287\n",
      "median = 471.3225\n",
      "Q1 = 269.97825\n",
      "Q3 = 700.085\n"
     ]
    },
    {
     "data": {
      "text/plain": [
       "{'whiskers': [<matplotlib.lines.Line2D at 0x21c0780ce10>,\n",
       "  <matplotlib.lines.Line2D at 0x21c0780cf60>],\n",
       " 'caps': [<matplotlib.lines.Line2D at 0x21c07819550>,\n",
       "  <matplotlib.lines.Line2D at 0x21c07819898>],\n",
       " 'boxes': [<matplotlib.lines.Line2D at 0x21c0780ca20>],\n",
       " 'medians': [<matplotlib.lines.Line2D at 0x21c07819ba8>],\n",
       " 'fliers': [<matplotlib.lines.Line2D at 0x21c07819ef0>],\n",
       " 'means': []}"
      ]
     },
     "execution_count": 11,
     "metadata": {},
     "output_type": "execute_result"
    },
    {
     "data": {
      "image/png": "[encoded data removed]",
      "text/plain": [
       "<Figure size 432x288 with 1 Axes>"
      ]
     },
     "metadata": {
      "needs_background": "light"
     },
     "output_type": "display_data"
    }
   ],
   "source": [
    "print(\"mean = \" + str(np.mean(mcp1)))\n",
    "print(\"standard deviation = \" + str(np.std(mcp1)))\n",
    "print(\"median = \" + str(np.median(mcp1)))\n",
    "print(\"Q1 = \" + str(np.quantile(mcp1,0.25)))\n",
    "print(\"Q3 = \" + str(np.quantile(mcp1,0.75)))\n",
    "plt.boxplot(mcp1)"
   ]
  },
  {
   "cell_type": "code",
   "execution_count": 12,
   "metadata": {},
   "outputs": [
    {
     "data": {
      "text/plain": [
       "(array([52.,  0.,  0.,  0.,  0.,  0.,  0.,  0.,  0., 64.]),\n",
       " array([1. , 1.1, 1.2, 1.3, 1.4, 1.5, 1.6, 1.7, 1.8, 1.9, 2. ]),\n",
       " <a list of 10 Patch objects>)"
      ]
     },
     "execution_count": 12,
     "metadata": {},
     "output_type": "execute_result"
    },
    {
     "data": {
      "image/png": "[encoded data removed]",
      "text/plain": [
       "<Figure size 432x288 with 1 Axes>"
      ]
     },
     "metadata": {
      "needs_background": "light"
     },
     "output_type": "display_data"
    }
   ],
   "source": [
    "plt.hist(classification)"
   ]
  },
  {
   "cell_type": "code",
   "execution_count": null,
   "metadata": {},
   "outputs": [],
   "source": []
  },
  {
   "cell_type": "code",
   "execution_count": null,
   "metadata": {},
   "outputs": [],
   "source": []
  }
 ],
 "metadata": {
  "kernelspec": {
   "display_name": "Python 3",
   "language": "python",
   "name": "python3"
  },
  "language_info": {
   "codemirror_mode": {
    "name": "ipython",
    "version": 3
   },
   "file_extension": ".py",
   "mimetype": "text/x-python",
   "name": "python",
   "nbconvert_exporter": "python",
   "pygments_lexer": "ipython3",
   "version": "3.7.3"
  },
  "pycharm": {
   "stem_cell": {
    "cell_type": "raw",
    "source": [],
    "metadata": {
     "collapsed": false
    }
   }
  }
 },
 "nbformat": 4,
 "nbformat_minor": 2
}