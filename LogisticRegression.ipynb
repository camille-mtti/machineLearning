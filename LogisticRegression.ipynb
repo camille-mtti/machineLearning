{
 "cells": [
  {
   "cell_type": "code",
   "execution_count": 1,
   "metadata": {},
   "outputs": [
    {
     "name": "stdout",
     "output_type": "stream",
     "text": [
      "(116, 9) (116,)\n",
      "(69, 9) (69,)\n",
      "(47, 9) (47,)\n"
     ]
    }
   ],
   "source": [
    "import pandas as pd\n",
    "from sklearn import preprocessing\n",
    "\n",
    "from sklearn.model_selection import train_test_split\n",
    "from sklearn.metrics import mean_squared_error\n",
    "from math import sqrt\n",
    "from sklearn import model_selection\n",
    "from sklearn.linear_model import LogisticRegression\n",
    "\n",
    "from sklearn.model_selection import cross_val_score\n",
    "\n",
    "\n",
    "from warnings import simplefilter\n",
    "# ignore all future warnings\n",
    "simplefilter(action='ignore', category=FutureWarning)\n",
    "\n",
    "# creating name column to recreate dataframe\n",
    "names = [\"Age\", \"BMI\", \"Glucose\", \"Insulin\", \"HOMA\", \"Leptin\", \"Adiponectin\", \"Resistin\", \"MCP.1\"]\n",
    "\n",
    "raw_df = pd.read_csv('dataR2.csv')\n",
    "\n",
    "# dropping the target column\n",
    "array = raw_df.drop(\"Classification\",axis=1).values\n",
    "\n",
    "# normalizing data to eliminate the effect of unit\n",
    "array2 = preprocessing.scale(array)\n",
    "\n",
    "# recreating the dataframe with normalize data and without the target column\n",
    "x1_df = pd.DataFrame(data = array2, columns=names)\n",
    "\n",
    "\n",
    "x1 = x1_df.values # array of attributes value\n",
    "y1 = raw_df[\"Classification\"].values # array of target value\n",
    "\n",
    "# verifying the dimension of each array\n",
    "print(x1.shape, y1.shape)\n",
    "\n",
    "# splitting data in training and testing and verifyind dimensions\n",
    "X_train, X_test, y_train, y_test = train_test_split(x1, y1, test_size=0.4, random_state=0)\n",
    "print(X_train.shape, y_train.shape)\n",
    "print(X_test.shape, y_test.shape)\n",
    "\n",
    "\n"
   ]
  },
  {
   "cell_type": "code",
   "execution_count": 2,
   "metadata": {},
   "outputs": [
    {
     "name": "stdout",
     "output_type": "stream",
     "text": [
      "0.6382978723404256\n",
      "[0.66666667 0.66666667 0.60869565 0.73913043 0.5       ]\n"
     ]
    }
   ],
   "source": [
    "# doing logistic regression without crossfold validation\n",
    "\n",
    "logisticRegr = LogisticRegression()\n",
    "logisticRegr.fit(X_train,y_train)\n",
    "\n",
    "# evaluating the model\n",
    "score = logisticRegr.score(X_test, y_test)\n",
    "print(score)\n",
    "\n",
    "# crossfold validation and logistic regression\n",
    "scores = cross_val_score(logisticRegr, x1, y1, cv=5)\n",
    "print(scores)"
   ]
  },
  {
   "cell_type": "code",
   "execution_count": 3,
   "metadata": {},
   "outputs": [
    {
     "name": "stdout",
     "output_type": "stream",
     "text": [
      "0.6170212765957447\n",
      "[0.66666667 0.66666667 0.73913043 0.73913043 0.5       ]\n"
     ]
    }
   ],
   "source": [
    "from sklearn import svm\n",
    "\n",
    "model_svm = svm.SVC(kernel='linear', C=1).fit(X_train, y_train)\n",
    "print(model_svm.score(X_test, y_test))\n",
    "\n",
    "# crossfold validation and SVM\n",
    "scores = cross_val_score(model_svm, x1, y1, cv=5)\n",
    "print(scores)"
   ]
  },
  {
   "cell_type": "code",
   "execution_count": 6,
   "metadata": {},
   "outputs": [
    {
     "name": "stdout",
     "output_type": "stream",
     "text": [
      "0.7021276595744681\n",
      "[0.79166667 0.66666667 0.65217391 0.52173913 0.36363636]\n"
     ]
    }
   ],
   "source": [
    "from sklearn.neighbors import KNeighborsClassifier\n",
    "\n",
    "model_knn = KNeighborsClassifier(n_neighbors=3)\n",
    "model_knn.fit(X_train, y_train)\n",
    "print(model_knn.score(X_test, y_test))\n",
    "\n",
    "scores = cross_val_score(model_knn, x1, y1, cv=5)\n",
    "print(scores)"
   ]
  },
  {
   "cell_type": "code",
   "execution_count": 7,
   "metadata": {},
   "outputs": [
    {
     "name": "stdout",
     "output_type": "stream",
     "text": [
      "0.5957446808510638\n",
      "[0.5        0.54166667 0.69565217 0.56521739 0.59090909]\n"
     ]
    }
   ],
   "source": [
    "from sklearn.tree import DecisionTreeClassifier\n",
    "\n",
    "model_dt=DecisionTreeClassifier()\n",
    "model_dt.fit(X_train, y_train)\n",
    "print(model_dt.score(X_test, y_test))\n",
    "\n",
    "scores = cross_val_score(model_dt, x1, y1, cv=5)\n",
    "print(scores)"
   ]
  },
  {
   "cell_type": "code",
   "execution_count": 8,
   "metadata": {},
   "outputs": [
    {
     "name": "stdout",
     "output_type": "stream",
     "text": [
      "0.574468085106383\n",
      "[0.75       0.33333333 0.69565217 0.56521739 0.63636364]\n"
     ]
    }
   ],
   "source": [
    "from sklearn.discriminant_analysis import QuadraticDiscriminantAnalysis\n",
    "\n",
    "model_qda = QuadraticDiscriminantAnalysis()\n",
    "model_qda.fit(X_train, y_train)\n",
    "print(model_qda.score(X_test, y_test))\n",
    "\n",
    "scores = cross_val_score(model_qda, x1, y1, cv=5)\n",
    "print(scores)"
   ]
  },
  {
   "cell_type": "code",
   "execution_count": null,
   "metadata": {},
   "outputs": [],
   "source": []
  }
 ],
 "metadata": {
  "kernelspec": {
   "display_name": "Python 3",
   "language": "python",
   "name": "python3"
  },
  "language_info": {
   "codemirror_mode": {
    "name": "ipython",
    "version": 3
   },
   "file_extension": ".py",
   "mimetype": "text/x-python",
   "name": "python",
   "nbconvert_exporter": "python",
   "pygments_lexer": "ipython3",
   "version": "3.7.3"
  }
 },
 "nbformat": 4,
 "nbformat_minor": 2
}
