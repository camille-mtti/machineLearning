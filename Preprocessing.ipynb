{
 "cells": [
  {
   "cell_type": "markdown",
   "metadata": {},
   "source": [
    "\n",
    "https://machinelearningmastery.com/metrics-evaluate-machine-learning-algorithms-python/\n",
    "https://medium.com/@rrfd/standardize-or-normalize-examples-in-python-e3f174b65dfc  \n",
    "https://www.analyticsvidhya.com/blog/2017/09/common-machine-learning-algorithms/  \n",
    "https://medium.com/dunder-data/from-pandas-to-scikit-learn-a-new-exciting-workflow-e88e2271ef62\n",
    "https://github.com/scikit-learn-contrib/sklearn-pandas\n",
    "\n",
    "https://www.pluralsight.com/guides/validating-machine-learning-models-scikit-learn\n"
   ]
  },
  {
   "cell_type": "code",
   "execution_count": 19,
   "metadata": {
    "pycharm": {
     "is_executing": false
    }
   },
   "outputs": [
    {
     "name": "stdout",
     "output_type": "stream",
     "text": [
      "-------------- old dataframe --------------\n",
      "     Age        BMI  Glucose  Insulin      HOMA   Leptin  Adiponectin  \\\n",
      "0     48  23.500000       70    2.707  0.467409   8.8071     9.702400   \n",
      "1     83  20.690495       92    3.115  0.706897   8.8438     5.429285   \n",
      "2     82  23.124670       91    4.498  1.009651  17.9393    22.432040   \n",
      "3     68  21.367521       77    3.226  0.612725   9.8827     7.169560   \n",
      "4     86  21.111111       92    3.549  0.805386   6.6994     4.819240   \n",
      "..   ...        ...      ...      ...       ...      ...          ...   \n",
      "111   45  26.850000       92    3.330  0.755688  54.6800    12.100000   \n",
      "112   62  26.840000      100    4.530  1.117400  12.4500    21.420000   \n",
      "113   65  32.050000       97    5.730  1.370998  61.4800    22.540000   \n",
      "114   72  25.590000       82    2.820  0.570392  24.9600    33.750000   \n",
      "115   86  27.180000      138   19.910  6.777364  90.2800    14.110000   \n",
      "\n",
      "     Resistin    MCP.1  Classification  \n",
      "0     7.99585  417.114               1  \n",
      "1     4.06405  468.786               1  \n",
      "2     9.27715  554.697               1  \n",
      "3    12.76600  928.220               1  \n",
      "4    10.57635  773.920               1  \n",
      "..        ...      ...             ...  \n",
      "111  10.96000  268.230               2  \n",
      "112   7.32000  330.160               2  \n",
      "113  10.33000  314.050               2  \n",
      "114   3.27000  392.460               2  \n",
      "115   4.35000   90.090               2  \n",
      "\n",
      "[116 rows x 10 columns]\n",
      "-------------- new dataframe --------------\n",
      "          Age       BMI   Glucose   Insulin      HOMA    Leptin  Adiponectin  \\\n",
      "0   -0.579794 -0.816675 -1.239222 -0.728739 -0.614282 -0.932334    -0.070222   \n",
      "1    1.601821 -1.378751 -0.258299 -0.688038 -0.548240 -0.930413    -0.697350   \n",
      "2    1.539489 -0.891764 -0.302887 -0.550073 -0.464752 -0.454219     1.797998   \n",
      "3    0.666843 -1.243303 -0.927110 -0.676965 -0.574210 -0.876021    -0.441945   \n",
      "4    1.788816 -1.294601 -0.258299 -0.644743 -0.521081 -1.042682    -0.786881   \n",
      "..        ...       ...       ...       ...       ...       ...          ...   \n",
      "111 -0.766789 -0.146468 -0.258299 -0.666590 -0.534786  1.469335     0.281654   \n",
      "112  0.292852 -0.148468  0.098400 -0.546881 -0.435039 -0.741611     1.649470   \n",
      "113  0.479848  0.893855 -0.035362 -0.427172 -0.365106  1.825348     1.813843   \n",
      "114  0.916171 -0.398546 -0.704173 -0.717467 -0.585883 -0.086651     3.459038   \n",
      "115  1.788816 -0.080447  1.792721  0.987394  1.125766  3.333167     0.576644   \n",
      "\n",
      "     Resistin     MCP.1  Classification  \n",
      "0   -0.545517 -0.341251       -1.109400  \n",
      "1   -0.864214 -0.191224       -1.109400  \n",
      "2   -0.441660  0.058214       -1.109400  \n",
      "3   -0.158867  1.142718       -1.109400  \n",
      "4   -0.336352  0.694716       -1.109400  \n",
      "..        ...       ...             ...  \n",
      "111 -0.305255 -0.773527        0.901388  \n",
      "112 -0.600299 -0.593717        0.901388  \n",
      "113 -0.356320 -0.640491        0.901388  \n",
      "114 -0.928577 -0.412832        0.901388  \n",
      "115 -0.841036 -1.290747        0.901388  \n",
      "\n",
      "[116 rows x 10 columns]\n"
     ]
    }
   ],
   "source": [
    "import pandas as pd\n",
    "from sklearn import preprocessing\n",
    "names = [\"Age\", \"BMI\", \"Glucose\", \"Insulin\", \"HOMA\", \"Leptin\", \"Adiponectin\", \"Resistin\", \"MCP.1\", \"Classification\"]\n",
    "df = pd.read_csv('dataR2.csv')\n",
    "print(\"-------------- old dataframe --------------\")\n",
    "print(df)\n",
    "array = df.values\n",
    "array2 = preprocessing.scale(array)\n",
    "new_df = pd.DataFrame(data = array2, columns=names)\n",
    "print(\"-------------- new dataframe --------------\")\n",
    "print(new_df)\n"
   ]
  },
  {
   "cell_type": "code",
   "execution_count": null,
   "metadata": {},
   "outputs": [],
   "source": []
  },
  {
   "cell_type": "code",
   "execution_count": null,
   "metadata": {},
   "outputs": [],
   "source": []
  },
  {
   "cell_type": "code",
   "execution_count": null,
   "metadata": {},
   "outputs": [],
   "source": []
  },
  {
   "cell_type": "code",
   "execution_count": null,
   "metadata": {},
   "outputs": [],
   "source": []
  }
 ],
 "metadata": {
  "kernelspec": {
   "display_name": "Python 3",
   "language": "python",
   "name": "python3"
  },
  "language_info": {
   "codemirror_mode": {
    "name": "ipython",
    "version": 3
   },
   "file_extension": ".py",
   "mimetype": "text/x-python",
   "name": "python",
   "nbconvert_exporter": "python",
   "pygments_lexer": "ipython3",
   "version": "3.7.3"
  }
 },
 "nbformat": 4,
 "nbformat_minor": 2
}
