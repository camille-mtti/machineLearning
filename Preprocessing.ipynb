{
 "cells": [
  {
   "cell_type": "markdown",
   "metadata": {},
   "source": [
    "\n",
    "https://machinelearningmastery.com/metrics-evaluate-machine-learning-algorithms-python/\n",
    "https://medium.com/@rrfd/standardize-or-normalize-examples-in-python-e3f174b65dfc  \n",
    "https://www.analyticsvidhya.com/blog/2017/09/common-machine-learning-algorithms/  \n",
    "https://medium.com/dunder-data/from-pandas-to-scikit-learn-a-new-exciting-workflow-e88e2271ef62\n",
    "https://github.com/scikit-learn-contrib/sklearn-pandas\n"
   ]
  },
  {
   "cell_type": "code",
   "execution_count": 6,
   "metadata": {
    "pycharm": {
     "is_executing": false
    }
   },
   "outputs": [
    {
     "name": "stdout",
     "output_type": "stream",
     "text": [
      "[[ 48.          23.5         70.         ...   7.99585    417.114\n",
      "    1.        ]\n",
      " [ 83.          20.69049454  92.         ...   4.06405    468.786\n",
      "    1.        ]\n",
      " [ 82.          23.12467037  91.         ...   9.27715    554.697\n",
      "    1.        ]\n",
      " ...\n",
      " [ 65.          32.05        97.         ...  10.33       314.05\n",
      "    2.        ]\n",
      " [ 72.          25.59        82.         ...   3.27       392.46\n",
      "    2.        ]\n",
      " [ 86.          27.18       138.         ...   4.35        90.09\n",
      "    2.        ]]\n"
     ]
    }
   ],
   "source": [
    "import pandas as pd\n",
    "names = [\"Age\", \"BMI\", \"Glucose\", \"Insulin\", \"HOMA\", \"Leptin\", \"Adiponectin\", \"Resistin\", \"MCP.1\", \"Classification\"]\n",
    "df = pd.read_csv('dataR2.csv')\n",
    "array = df.values\n",
    "print(array)\n"
   ]
  },
  {
   "cell_type": "code",
   "execution_count": null,
   "metadata": {},
   "outputs": [],
   "source": []
  },
  {
   "cell_type": "code",
   "execution_count": null,
   "metadata": {},
   "outputs": [],
   "source": []
  },
  {
   "cell_type": "code",
   "execution_count": null,
   "metadata": {},
   "outputs": [],
   "source": []
  },
  {
   "cell_type": "code",
   "execution_count": null,
   "metadata": {},
   "outputs": [],
   "source": []
  }
 ],
 "metadata": {
  "kernelspec": {
   "display_name": "Python 3",
   "language": "python",
   "name": "python3"
  },
  "language_info": {
   "codemirror_mode": {
    "name": "ipython",
    "version": 3
   },
   "file_extension": ".py",
   "mimetype": "text/x-python",
   "name": "python",
   "nbconvert_exporter": "python",
   "pygments_lexer": "ipython3",
   "version": "3.7.3"
  }
 },
 "nbformat": 4,
 "nbformat_minor": 2
}
